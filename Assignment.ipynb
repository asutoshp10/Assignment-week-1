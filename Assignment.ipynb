{
 "cells": [
  {
   "cell_type": "code",
   "execution_count": 1,
   "id": "3ff870c9-80fe-45f8-92aa-e21d1b671145",
   "metadata": {},
   "outputs": [
    {
     "name": "stdout",
     "output_type": "stream",
     "text": [
      "<class 'str'>\n",
      "<class 'list'>\n",
      "<class 'float'>\n",
      "<class 'tuple'>\n"
     ]
    }
   ],
   "source": [
    "#1.>\n",
    "Name = 'Asutosh Pradhan'\n",
    "List = [1,2,'ap','bunty',2.7,4+8j]\n",
    "pi = 3.14\n",
    "Tuple = (1,2,3.4)\n",
    "print(type(Name))\n",
    "print(type(List))\n",
    "print(type(pi))\n",
    "print(type(Tuple))"
   ]
  },
  {
   "cell_type": "code",
   "execution_count": 3,
   "id": "e63121ce-2999-4d9a-9c82-178b1ed0c4d2",
   "metadata": {},
   "outputs": [
    {
     "name": "stdout",
     "output_type": "stream",
     "text": [
      "<class 'str'>\n",
      "<class 'str'>\n",
      "<class 'list'>\n",
      "<class 'int'>\n"
     ]
    }
   ],
   "source": [
    "#2.>\n",
    "var1=''\n",
    "var2='[DS,ML,Python]'\n",
    "var3=['DS','ML','Python']\n",
    "var4=1\n",
    "print(type(var1))\n",
    "print(type(var2))\n",
    "print(type(var3))\n",
    "print(type(var4))"
   ]
  },
  {
   "cell_type": "code",
   "execution_count": 5,
   "id": "59c110ad-c46c-4118-b788-314ddae6db07",
   "metadata": {},
   "outputs": [
    {
     "data": {
      "text/plain": [
       "0.6666666666666666"
      ]
     },
     "execution_count": 5,
     "metadata": {},
     "output_type": "execute_result"
    }
   ],
   "source": [
    "#3.>\n",
    "#(i) '/'is a arithmatical opreator whish is used to divide two numbers and the resut will be in floating type\n",
    "2/3"
   ]
  },
  {
   "cell_type": "code",
   "execution_count": 6,
   "id": "db7ae1e4-693d-4a6e-935d-f70fd36f17a8",
   "metadata": {},
   "outputs": [
    {
     "data": {
      "text/plain": [
       "0"
      ]
     },
     "execution_count": 6,
     "metadata": {},
     "output_type": "execute_result"
    }
   ],
   "source": [
    "#(ii) '%' is an arithmatical opreator which is used to find remainder after division of two numbers\n",
    "3%3"
   ]
  },
  {
   "cell_type": "code",
   "execution_count": 7,
   "id": "a172e558-4772-4564-bd86-97ab44e22f7f",
   "metadata": {},
   "outputs": [
    {
     "data": {
      "text/plain": [
       "0"
      ]
     },
     "execution_count": 7,
     "metadata": {},
     "output_type": "execute_result"
    }
   ],
   "source": [
    "#(iii) '//' is an arithmatical opreator which is used to find quotint of two numbers in intiger form\n",
    "2//3"
   ]
  },
  {
   "cell_type": "code",
   "execution_count": 8,
   "id": "38a3a6e3-3930-46a8-8e55-a8dd9fc9ef74",
   "metadata": {},
   "outputs": [
    {
     "data": {
      "text/plain": [
       "256"
      ]
     },
     "execution_count": 8,
     "metadata": {},
     "output_type": "execute_result"
    }
   ],
   "source": [
    "#(iv) '**' is an arithmatical opreator which is used to find power of a nuumber.\n",
    "2**8"
   ]
  },
  {
   "cell_type": "code",
   "execution_count": 10,
   "id": "a2e89854-ef80-4fcd-8dee-e1c1736632b6",
   "metadata": {},
   "outputs": [
    {
     "name": "stdout",
     "output_type": "stream",
     "text": [
      "asu <class 'list'>\n",
      "bunty <class 'list'>\n",
      "1 <class 'list'>\n",
      "2 <class 'list'>\n",
      "2.4 <class 'list'>\n",
      "(3+4j) <class 'list'>\n",
      "3 <class 'list'>\n",
      "4 <class 'list'>\n",
      "5 <class 'list'>\n",
      "ap <class 'list'>\n"
     ]
    }
   ],
   "source": [
    "#4.>\n",
    "l=['asu','bunty',1,2,2.4,3+4j,3,4,5,'ap']\n",
    "for i in l:\n",
    "    print(i,type(l))"
   ]
  },
  {
   "cell_type": "code",
   "execution_count": 13,
   "id": "38dfa12c-10f3-4499-98b0-44fe425b01e3",
   "metadata": {},
   "outputs": [
    {
     "name": "stdin",
     "output_type": "stream",
     "text": [
      "A: 8\n",
      "B: 2\n"
     ]
    },
    {
     "name": "stdout",
     "output_type": "stream",
     "text": [
      "Number of times a is divisible by B: 4\n"
     ]
    }
   ],
   "source": [
    "#5.>\n",
    "A=float(input('A:'))\n",
    "B=float(input('B:'))\n",
    "if A%B==0:\n",
    "    print('Number of times a is divisible by B:',int(A/B))\n",
    "else:\n",
    "    print('Not purely divisible')"
   ]
  },
  {
   "cell_type": "code",
   "execution_count": 14,
   "id": "addb080e-cdbc-40a7-bb21-b9122d3a3cf8",
   "metadata": {},
   "outputs": [
    {
     "name": "stdout",
     "output_type": "stream",
     "text": [
      "1 is not divisible by 3\n",
      "2 is not divisible by 3\n",
      "3 is divisible by 3\n",
      "4 is not divisible by 3\n",
      "5 is not divisible by 3\n",
      "6 is divisible by 3\n",
      "7 is not divisible by 3\n",
      "8 is not divisible by 3\n",
      "9 is divisible by 3\n",
      "10 is not divisible by 3\n",
      "11 is not divisible by 3\n",
      "12 is divisible by 3\n",
      "13 is not divisible by 3\n",
      "14 is not divisible by 3\n",
      "15 is divisible by 3\n",
      "16 is not divisible by 3\n",
      "17 is not divisible by 3\n",
      "18 is divisible by 3\n",
      "19 is not divisible by 3\n",
      "20 is not divisible by 3\n",
      "21 is divisible by 3\n",
      "22 is not divisible by 3\n",
      "23 is not divisible by 3\n",
      "24 is divisible by 3\n",
      "25 is not divisible by 3\n"
     ]
    }
   ],
   "source": [
    "#6.>\n",
    "l=[1,2,3,4,5,6,7,8,9,10,11,12,13,14,15,16,17,18,19,20,21,22,23,24,25]\n",
    "for i in l:\n",
    "    if i%3==0:\n",
    "        print(i,'is divisible by 3')\n",
    "    else :\n",
    "        print(i,'is not divisible by 3')"
   ]
  },
  {
   "cell_type": "code",
   "execution_count": 16,
   "id": "66aacd6a-554e-438a-9378-4bedea6bd1e4",
   "metadata": {},
   "outputs": [
    {
     "data": {
      "text/plain": [
       "[1, 28, 3, 4]"
      ]
     },
     "execution_count": 16,
     "metadata": {},
     "output_type": "execute_result"
    }
   ],
   "source": [
    "#7.> The data type in which change of data in any index is possible then it is called Mutable datatypes.\n",
    "List = [1,2,3,4]\n",
    "List[1]=28\n",
    "List"
   ]
  },
  {
   "cell_type": "code",
   "execution_count": 17,
   "id": "5e8d2ff9-ef5d-4ac7-bed3-85d1836f1359",
   "metadata": {},
   "outputs": [],
   "source": [
    "# but here string is immutable as no change can be made"
   ]
  },
  {
   "cell_type": "code",
   "execution_count": null,
   "id": "9988d4a4-0d05-4044-a643-d6024930e2a3",
   "metadata": {},
   "outputs": [],
   "source": []
  }
 ],
 "metadata": {
  "kernelspec": {
   "display_name": "Python 3 (ipykernel)",
   "language": "python",
   "name": "python3"
  },
  "language_info": {
   "codemirror_mode": {
    "name": "ipython",
    "version": 3
   },
   "file_extension": ".py",
   "mimetype": "text/x-python",
   "name": "python",
   "nbconvert_exporter": "python",
   "pygments_lexer": "ipython3",
   "version": "3.10.8"
  }
 },
 "nbformat": 4,
 "nbformat_minor": 5
}
